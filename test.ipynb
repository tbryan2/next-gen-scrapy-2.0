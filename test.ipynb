{
 "cells": [
  {
   "cell_type": "code",
   "execution_count": 2,
   "metadata": {},
   "outputs": [],
   "source": [
    "import requests\n",
    "from bs4 import BeautifulSoup\n",
    "import re\n",
    "import json\n",
    "import urllib\n",
    "import os\n",
    "import urllib.request\n",
    "import cv2\n",
    "import json\n",
    "import scipy.misc\n",
    "import pandas as pd\n",
    "import argparse"
   ]
  },
  {
   "cell_type": "code",
   "execution_count": 3,
   "metadata": {},
   "outputs": [],
   "source": [
    "parser = argparse.ArgumentParser(description='Download image from NFL next gen stats')"
   ]
  },
  {
   "cell_type": "code",
   "execution_count": 4,
   "metadata": {},
   "outputs": [],
   "source": [
    "teams = [\"arizona-cardinals\",\n",
    "         \"atlanta-falcons\",\n",
    "         \"baltimore-ravens\",\n",
    "         \"buffalo-bills\",\n",
    "         \"carolina-panthers\",\n",
    "         \"chicago-bears\",\n",
    "         \"cincinnati-bengals\",\n",
    "         \"cleveland-browns\",\n",
    "         \"dallas-cowboys\",\n",
    "         \"denver-broncos\",\n",
    "         \"detroit-lions\",\n",
    "         \"green-bay-packers\",\n",
    "         \"houston-texans\",\n",
    "         \"indianapolis-colts\",\n",
    "         \"jacksonville-jaguars\",\n",
    "         \"kansas-city-chiefs\",\n",
    "         \"los-angeles-chargers\",\n",
    "         \"los-angeles-rams\",\n",
    "         \"miami-dolphins\",\n",
    "         \"minnesota-vikings\",\n",
    "         \"new-england-patriots\",\n",
    "         \"new-orleans-saints\",\n",
    "         \"new-york-giants\",\n",
    "         \"new-york-jets\",\n",
    "         \"oakland-raiders\",\n",
    "         \"philadelphia-eagles\",\n",
    "         \"pittsburgh-steelers\",\n",
    "         \"san-francisco-49ers\",\n",
    "         \"seattle-seahawks\",\n",
    "         \"tampabay-buccaneers\",\n",
    "         \"tennessee-titans\",\n",
    "         \"washington-redskins\"\n",
    "         ]"
   ]
  },
  {
   "cell_type": "code",
   "execution_count": 5,
   "metadata": {},
   "outputs": [],
   "source": [
    "seasons = [\"2022\"]\n",
    "\n",
    "weeks = [\"1\", \"2\", \"3\", \"4\", \"5\", \"6\", \"7\", \"8\", \"9\", \"10\", \"11\", \"12\", \"13\",\n",
    "         \"14\", \"15\", \"16\", \"17\", \"wild-card\", \"divisional\", \"conference\", \"super-bowl\"]"
   ]
  },
  {
   "cell_type": "code",
   "execution_count": 6,
   "metadata": {},
   "outputs": [
    {
     "data": {
      "text/plain": [
       "_StoreAction(option_strings=['-w', '--weeks'], dest='weeks', nargs='+', const=None, default=['1', '2', '3', '4', '5', '6', '7', '8', '9', '10', '11', '12', '13', '14', '15', '16', '17', 'wild-card', 'divisional', 'conference', 'super-bowl'], type=<class 'str'>, choices=None, required=False, help='input week', metavar=None)"
      ]
     },
     "execution_count": 6,
     "metadata": {},
     "output_type": "execute_result"
    }
   ],
   "source": [
    "parser.add_argument('-s', '--seasons', nargs='+', type=str,dest='seasons',default=seasons, help='input season')\n",
    "parser.add_argument('-t', '--teams', nargs='+', type=str,dest='teams',default=teams, help='input team')\n",
    "parser.add_argument('-w', '--weeks', nargs='+', type=str,dest='weeks',default=weeks, help='input week')"
   ]
  },
  {
   "cell_type": "code",
   "execution_count": 8,
   "metadata": {},
   "outputs": [
    {
     "name": "stderr",
     "output_type": "stream",
     "text": [
      "usage: ipykernel_launcher.py [-h] [-s SEASONS [SEASONS ...]]\n",
      "                             [-t TEAMS [TEAMS ...]] [-w WEEKS [WEEKS ...]]\n",
      "ipykernel_launcher.py: error: unrecognized arguments: --ip=127.0.0.1 --stdin=9011 --control=9009 --hb=9008 --Session.signature_scheme=\"hmac-sha256\" --Session.key=b\"7086c289-8e9a-40d1-8a91-bee93ef8d2e6\" --shell=9010 --transport=\"tcp\" --iopub=9012 --f=/home/vscode/.local/share/jupyter/runtime/kernel-v2-3878J7NFHCXG15gr.json\n"
     ]
    },
    {
     "ename": "SystemExit",
     "evalue": "2",
     "output_type": "error",
     "traceback": [
      "An exception has occurred, use %tb to see the full traceback.\n",
      "\u001b[0;31mSystemExit\u001b[0m\u001b[0;31m:\u001b[0m 2\n"
     ]
    }
   ],
   "source": [
    "args = parser.parse_args()\n",
    "seasons = args.seasons\n",
    "weeks = args.weeks\n",
    "teams = args.teams"
   ]
  },
  {
   "cell_type": "code",
   "execution_count": null,
   "metadata": {},
   "outputs": [],
   "source": [
    "pattern = re.compile(\"charts\")\n"
   ]
  }
 ],
 "metadata": {
  "kernelspec": {
   "display_name": "Python 3",
   "language": "python",
   "name": "python3"
  },
  "language_info": {
   "codemirror_mode": {
    "name": "ipython",
    "version": 3
   },
   "file_extension": ".py",
   "mimetype": "text/x-python",
   "name": "python",
   "nbconvert_exporter": "python",
   "pygments_lexer": "ipython3",
   "version": "3.9.17"
  },
  "orig_nbformat": 4
 },
 "nbformat": 4,
 "nbformat_minor": 2
}
